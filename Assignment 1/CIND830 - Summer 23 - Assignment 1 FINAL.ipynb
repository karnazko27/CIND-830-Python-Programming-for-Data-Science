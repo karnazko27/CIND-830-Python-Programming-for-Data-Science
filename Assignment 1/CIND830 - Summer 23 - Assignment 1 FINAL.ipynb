{
 "cells": [
  {
   "cell_type": "markdown",
   "metadata": {
    "id": "kJ6ssXaGJfGN"
   },
   "source": [
    "## CIND830 - Python Programming for Data Science  \n",
    "### Assignment 1 (15% of the final grade)\n",
    "### Due on July 17, 2023 11:59 PM"
   ]
  },
  {
   "cell_type": "markdown",
   "metadata": {
    "id": "UWjXw7DsJfGP"
   },
   "source": [
    "*****\n",
    "This is a Jupyter Notebook document that extends a simple formatting syntax for authoring HTML and PDF. Review [this](https://jupyter-notebook.readthedocs.io/en/stable/notebook.html) website for more details on using Jupyter Notebooks.\n",
    "\n",
    "Consider using a Google Colaboratory platform to complete this assignment. Ensure using **Python 3.7 release or higher** then complete the assignment by inserting your Python code wherever seeing the string `#INSERT YOUR ANSWER HERE.`\n",
    "\n",
    "You are expected to submit the **notebook file** (in IPYNB format) **and** the **exported version** (either in PDF or HTML) in the same Assignment link in D2L. Use [these](https://www.torontomu.ca/courses/students/tutorials/assignments/) guidelines to submit **both** the IPYNB and the exported file (HTML or PDF). Failing to submit both files will be subject to mark deduction.\n",
    "\n",
    "Please be advised that you cannot get more than 100% in this assignment, and the **BONUS** question (if there is any) will only be graded if all other questions have been submitted."
   ]
  },
  {
   "cell_type": "markdown",
   "metadata": {
    "id": "EAq5nq7shwbI"
   },
   "source": [
    "*****\n",
    "Coverage: <br>\n",
    "1. Data Types and Expressions <br>\n",
    "2. Repetition Statements <br>\n",
    "3. Selection Statements <br>\n",
    "4. Strings and Text Files <br>\n",
    "*****"
   ]
  },
  {
   "cell_type": "markdown",
   "metadata": {
    "id": "tim9-gxMr7jW"
   },
   "source": [
    "\n",
    "\n",
    "### Question 1  **[30 pts]**:"
   ]
  },
  {
   "cell_type": "markdown",
   "metadata": {
    "id": "RKFFvZ6Rr7-_"
   },
   "source": [
    "**a)**  **[10 pts]**  Write code to reverse an integer number entered by the user, and to give the square root of the reversed number. For example, if the user enters `144`, the output should be `441` and `21.0` (output on separate lines).  \n",
    "Note: Do not use `[::-1]` to reverse the number/string"
   ]
  },
  {
   "cell_type": "code",
   "execution_count": 1,
   "metadata": {
    "id": "Zvr96FRXsDKJ"
   },
   "outputs": [
    {
     "name": "stdout",
     "output_type": "stream",
     "text": [
      "441\n",
      "21.0\n"
     ]
    }
   ],
   "source": [
    "#INSERT YOUR ANSWER HERE\n",
    "from math import sqrt\n",
    "\n",
    "number = 144\n",
    "rev_number = 0\n",
    "\n",
    "while (number > 0):   \n",
    "    remainder = number % 10  \n",
    "    rev_number = (rev_number * 10) + remainder  \n",
    "    number = number // 10  \n",
    "    \n",
    "print(rev_number)\n",
    "\n",
    "square_root_rev = sqrt(rev_number)\n",
    "print(square_root_rev)"
   ]
  },
  {
   "cell_type": "markdown",
   "metadata": {
    "id": "Ac3_bcvTsGxP"
   },
   "source": [
    "**b)**  **[10 pts]** Some numbers satisfy **Reversible Square Root** property. These numbers are the ones when you take the square, and then reverse them, then you take the square root, and reverse again, they are equal to the initial number.  \n",
    "  \n",
    "For example, the number `12` satisfies Reversible Square Root. If you take the square of `12` ($12^{2}$=144), then take the reverse of `144` (which is `441`), then take the square root of `441` ($\\sqrt{441}$=21), the number `21` is the reverse of `12`  \n",
    "  \n",
    "Write a program to find the numbers between 1 and 5000 that satisfy Reversible Square Root property and displays them on the same line, separated with `,` character. The last number should not have a `,` following.  \n",
    "**Note:** Do not use `[::-1]` to reverse the number/string"
   ]
  },
  {
   "cell_type": "code",
   "execution_count": 29,
   "metadata": {
    "id": "TpNNysA5sJKa"
   },
   "outputs": [
    {
     "data": {
      "text/plain": [
       "'1, 2, 3, 10, 11, 12, 13, 20, 21, 22, 30, 31, 100, 101, 102, 103, 110, 111, 112, 113, 120, 121, 122, 130, 200, 201, 202, 210, 211, 212, 220, 221, 300, 301, 310, 311, 1000, 1001, 1002, 1003, 1010, 1011, 1012, 1013, 1020, 1021, 1022, 1030, 1031, 1100, 1101, 1102, 1103, 1110, 1111, 1112, 1113, 1120, 1121, 1122, 1130, 1200, 1201, 1202, 1210, 1211, 1212, 1220, 1300, 1301, 2000, 2001, 2002, 2010, 2011, 2012, 2020, 2021, 2022, 2100, 2101, 2102, 2110, 2111, 2120, 2121, 2200, 2201, 2202, 2210, 2211, 3000, 3001, 3010, 3011, 3100, 3101, 3110, 3111'"
      ]
     },
     "execution_count": 29,
     "metadata": {},
     "output_type": "execute_result"
    }
   ],
   "source": [
    "#INSERT YOUR ANSWER HERE\n",
    "def reverse_number(number):\n",
    "    rev_number = 0\n",
    "\n",
    "    while (number > 0):   \n",
    "        remainder = number % 10  \n",
    "        rev_number = (rev_number * 10) + remainder  \n",
    "        number = number // 10  \n",
    "    return rev_number\n",
    "\n",
    "\n",
    "def reversible_square_root(number):\n",
    "    # square number\n",
    "    squared_number = number ** 2\n",
    "    # take reverse of squared number \n",
    "    # square root of reverse of squared_number is equal to reverse of number\n",
    "    return sqrt(reverse_number(squared_number)) == reverse_number(number)\n",
    "    \n",
    "    \n",
    "numbers_that_satisfy_RSR = []\n",
    "\n",
    "for num in range(1, 5001):\n",
    "    if reversible_square_root(num):\n",
    "        numbers_that_satisfy_RSR.append(str(num))\n",
    "        \n",
    "', '.join(numbers_that_satisfy_RSR)"
   ]
  },
  {
   "cell_type": "markdown",
   "metadata": {
    "id": "aS_u4TFwsLcb"
   },
   "source": [
    "**c)**  **[5 pts]**  Write a Python program to accept an integer and display its binary and octal equivalent.\n",
    "For example, if the user enters `5` then the output should be: <br>\n",
    "`The binary quivalent of 5 is 0b101`\n",
    "`The octal quivalent of 5 is 0o5`"
   ]
  },
  {
   "cell_type": "code",
   "execution_count": 4,
   "metadata": {
    "id": "3loQP8ZTsK1h"
   },
   "outputs": [
    {
     "name": "stdout",
     "output_type": "stream",
     "text": [
      "The binary quivalent of 5 is  0b101\n",
      "The octal quivalent of 5 is  0o5\n"
     ]
    }
   ],
   "source": [
    "#INSERT YOUR ANSWER HERE\n",
    "user_int_num = 5\n",
    "\n",
    "print(\"The binary quivalent of \" + str(user_int_num) + \" is \", bin(user_int_num))\n",
    "print(\"The octal quivalent of \" + str(user_int_num) + \" is \", oct(user_int_num))"
   ]
  },
  {
   "cell_type": "markdown",
   "metadata": {
    "id": "yG9eUyBVru0-"
   },
   "source": [
    "**d)**  **[5 pts]** Write a Python program to calculate the distance between two given points whose coordinates are $(x_1, y_1)$ and $(x_2, y_2)$\n",
    "\n",
    "according to the following formula\n",
    "$Distance = \\sqrt{(x_2 - x_1)^2 + (y_2 - y_1)^2}$\n",
    "\n",
    "For example, if the user enters `2, 4` and `4, 8` then the output should be: <br>\n",
    "`The distance between [2.0, 4.0] and [4.0, 8.0] is 4.47213595499958`"
   ]
  },
  {
   "cell_type": "code",
   "execution_count": 5,
   "metadata": {
    "id": "-SnlvAqQrvRf"
   },
   "outputs": [
    {
     "data": {
      "text/plain": [
       "4.47213595499958"
      ]
     },
     "execution_count": 5,
     "metadata": {},
     "output_type": "execute_result"
    }
   ],
   "source": [
    "#INSERT YOUR ANSWER HERE\n",
    "from math import sqrt\n",
    "\n",
    "def calculate_distance(x1, x2, y1, y2):\n",
    "    return sqrt((x2 - x1)**2 + (y2 - y1)**2)\n",
    "\n",
    "point1 = [2, 4]\n",
    "point2 = [4, 8]\n",
    "\n",
    "calculate_distance(point1[0], point1[1], point2[0], point2[1])"
   ]
  },
  {
   "cell_type": "markdown",
   "metadata": {
    "id": "1Ikg6MNLPwzP"
   },
   "source": [
    "**BONUS  [10 pts]**  Write a code to display the [running total](https://en.wikipedia.org/wiki/Running_total) of a sequence of numbers. For example, if the user enters `2,3,4,6,10`, the output should be `2 5 9 15 25`"
   ]
  },
  {
   "cell_type": "code",
   "execution_count": 28,
   "metadata": {
    "id": "lVjl0vA-QGCN"
   },
   "outputs": [
    {
     "name": "stdout",
     "output_type": "stream",
     "text": [
      "[2, 5, 9, 15, 25]\n"
     ]
    }
   ],
   "source": [
    "#INSERT YOUR ANSWER HERE\n",
    "seq_of_numbers = [2, 3, 4, 6, 10]\n",
    "running_total_list = []\n",
    "x = 0\n",
    "\n",
    "for i in range(0, len(seq_of_numbers)):\n",
    "    x += seq_of_numbers[i]\n",
    "    running_total_list.append(x)\n",
    "    \n",
    "print(running_total_list)"
   ]
  },
  {
   "cell_type": "markdown",
   "metadata": {
    "id": "jPrZqSxgSWNr"
   },
   "source": [
    "*****\n"
   ]
  },
  {
   "cell_type": "markdown",
   "metadata": {
    "id": "zj6KzolQArWq"
   },
   "source": [
    "### Question 2  **[30 pts]**:"
   ]
  },
  {
   "cell_type": "markdown",
   "metadata": {
    "id": "tv0MwrQuAbXe"
   },
   "source": [
    "**a)**  **[10 pts]** Write a program that will take a string message from the user and will encode the message using a simple algorithm:  \n",
    "1) Convert each character to its ASCII code.  \n",
    "2) Reverse the ASCII code.  \n",
    "3) Put a delimiter character in between reversed ASCII codes. Note: the delimeter character must be asked to the user.  \n",
    "4) Display the encoded message. Note: strip out the last delimiter on the message  \n",
    "  \n",
    "\n",
    "```\n",
    "Please enter the message: Hello world!\n",
    "Please enter the delimiter character: -\n",
    "The encoded message is: 27-101-801-801-111-23-911-111-411-801-001  \n",
    "```"
   ]
  },
  {
   "cell_type": "code",
   "execution_count": 6,
   "metadata": {
    "id": "i0iBB4l-CPxu"
   },
   "outputs": [
    {
     "data": {
      "text/plain": [
       "[72, 101, 108, 108, 111, 32, 119, 111, 114, 108, 100, 33]"
      ]
     },
     "execution_count": 6,
     "metadata": {},
     "output_type": "execute_result"
    }
   ],
   "source": [
    "#INSERT YOUR ANSWER HERE\n",
    "# 1. convert each character to ASCII code\n",
    "def ascii_code_converter(text):\n",
    "    return [ord(w) for w in text]\n",
    "\n",
    "ascii_code_converter(\"Hello world!\")"
   ]
  },
  {
   "cell_type": "code",
   "execution_count": 7,
   "metadata": {},
   "outputs": [
    {
     "data": {
      "text/plain": [
       "['H', 'e', 'l', 'l', 'o', ' ', 'w', 'o', 'r', 'l', 'd', '!']"
      ]
     },
     "execution_count": 7,
     "metadata": {},
     "output_type": "execute_result"
    }
   ],
   "source": [
    "# 2. Reverse ASCII code\n",
    "def reverse_ascii_converter(codes):\n",
    "    return [chr(c) for c in codes]\n",
    "\n",
    "reverse_ascii_converter(ascii_code_converter(\"Hello world!\"))"
   ]
  },
  {
   "cell_type": "code",
   "execution_count": 8,
   "metadata": {},
   "outputs": [
    {
     "name": "stdin",
     "output_type": "stream",
     "text": [
      "user enter delimiter:  ,\n"
     ]
    },
    {
     "data": {
      "text/plain": [
       "'H,e,l,l,o, ,w,o,r,l,d,!'"
      ]
     },
     "execution_count": 8,
     "metadata": {},
     "output_type": "execute_result"
    }
   ],
   "source": [
    "# 3. Put delimter between reversed ASCII codes\n",
    "delimiter = input('user enter delimiter: ')\n",
    "delimiter.join(reverse_ascii_converter(ascii_code_converter(\"Hello world!\")))"
   ]
  },
  {
   "cell_type": "code",
   "execution_count": 9,
   "metadata": {},
   "outputs": [
    {
     "name": "stdout",
     "output_type": "stream",
     "text": [
      "\u001be̡̡o\u0017Ώoƛ̡\u0001\n"
     ]
    }
   ],
   "source": [
    "# 4. display encoded message\n",
    "def display_encoded_message(text):\n",
    "    codes_str = text.split(\"-\")\n",
    "    codes_int = [int(c) for c in codes_str]\n",
    "    message = reverse_ascii_converter(codes_int)\n",
    "    print(''.join(message))\n",
    "    \n",
    "display_encoded_message(\"27-101-801-801-111-23-911-111-411-801-001\")"
   ]
  },
  {
   "cell_type": "markdown",
   "metadata": {
    "id": "PLYxCTBNDTzl"
   },
   "source": [
    "**b)**  **[10 pts]** Write a code that creates a set of different passwords.  Each password is a combination of a random adjective, noun, two digits and two punctuation symbols.\n",
    "\n",
    "For example, if the user asks for generating 4 passwords, then the code might generate the following list:\n",
    "\n",
    "| Password |\n",
    "|:-:|\n",
    "| supershine17*-  |\n",
    "| cheerfulmeet78~.  |\n",
    "| elitemango32&,  |\n",
    "| glossytrain14$} |\n",
    "\n",
    "Hint:  You can use the [wonderwords](https://pypi.org/project/wonderwords/) library to generate random words of the english language.\n"
   ]
  },
  {
   "cell_type": "code",
   "execution_count": 11,
   "metadata": {},
   "outputs": [
    {
     "name": "stdout",
     "output_type": "stream",
     "text": [
      "['!', '\"', '#', '$', '%', '&', \"'\", '(', ')', '*', '+', ',', '-', '.', '/', ':', ';', '<', '=', '>', '?', '@', '[', '\\\\', ']', '^', '_', '`', '{', '|', '}', '~']\n"
     ]
    },
    {
     "data": {
      "text/plain": [
       "'#,'"
      ]
     },
     "execution_count": 11,
     "metadata": {},
     "output_type": "execute_result"
    }
   ],
   "source": [
    "import string\n",
    "import random\n",
    "\n",
    "list_punctuation = list(string.punctuation)\n",
    "print(list_punctuation)\n",
    "''.join(random.choices(list_punctuation, k=2))"
   ]
  },
  {
   "cell_type": "code",
   "execution_count": 12,
   "metadata": {
    "id": "7eSWF7eMFEYv"
   },
   "outputs": [
    {
     "name": "stdin",
     "output_type": "stream",
     "text": [
      "Enter number of words to generate:  4\n"
     ]
    },
    {
     "name": "stdout",
     "output_type": "stream",
     "text": [
      "junket44>|\n",
      "teeny68@-\n",
      "vision23#*\n",
      "ikebana32_~\n"
     ]
    }
   ],
   "source": [
    "# !pip install wonderwords\n",
    "#INSERT YOUR ANSWER HERE\n",
    "from wonderwords import RandomWord\n",
    "\n",
    "def random_punct():\n",
    "    list_punctuation = list(string.punctuation)\n",
    "    random_punctuations = ''.join(random.choices(list_punctuation, k=2))\n",
    "    return random_punctuations\n",
    "\n",
    "def random_number():\n",
    "    list_num = ['0', '1', '2', '3', '4', '5', '6', '7', '8', '9']\n",
    "    random_num = ''.join(random.choices(list_num, k=2))\n",
    "    return random_num\n",
    "\n",
    "r = RandomWord()\n",
    "\n",
    "num = int(input(\"Enter number of words to generate: \"))\n",
    "\n",
    "random_words = r.random_words(num, include_parts_of_speech=[\"nouns\", \"adjectives\"])\n",
    "\n",
    "for word in random_words:\n",
    "    num = random_number()\n",
    "    punct = random_punct()\n",
    "    word += num\n",
    "    word += punct\n",
    "    print(word)"
   ]
  },
  {
   "cell_type": "markdown",
   "metadata": {
    "id": "2P998IaeFcFz"
   },
   "source": [
    "**c)**  **[10 pts]**\n",
    "You will download a CSV (Comma-Separated Values) data file named `automobile.csv` from this url: https://www.kaggle.com/datasets/tawfikelmetwally/automobile-dataset/versions/1?resource=download  and place it in a folder (in a place where your Colab project can read)  \n",
    "The file contains data organized in rows and columns, where each column represents a different attribute. The first row of the data file contains the column names.  \n",
    "Your task is to write a Python program that reads the file, displays the column names, allows the user to select a column, and calculates the average of the values in the selected column.\n",
    "\n",
    "Write a Python program that satisfies the following requirements:\n",
    "\n",
    "1) Read the contents of the `automobile.csv` file.  \n",
    "2) Display the column names to the user along with their corresponding numbers (starting from 1).  \n",
    "3) Prompt the user to enter the number of the column they want to select.  \n",
    "4) Calculate the average of the values in the selected column.  \n",
    "5) Print the average value.  \n",
    "\n",
    "```\n",
    "1. name\n",
    "2. mpg\n",
    "3. cylinders\n",
    "4. displacement\n",
    "5. horsepower\n",
    "6. weight\n",
    "7. acceleration\n",
    "8. model_year\n",
    "9. origin\n",
    "\n",
    "Enter the number of the column: 3\n",
    "\n",
    "The average cylinders is: 5.454773869346734\n",
    "```"
   ]
  },
  {
   "cell_type": "code",
   "execution_count": 14,
   "metadata": {
    "id": "Zrnys0c-FbCH"
   },
   "outputs": [
    {
     "data": {
      "text/html": [
       "<div>\n",
       "<style scoped>\n",
       "    .dataframe tbody tr th:only-of-type {\n",
       "        vertical-align: middle;\n",
       "    }\n",
       "\n",
       "    .dataframe tbody tr th {\n",
       "        vertical-align: top;\n",
       "    }\n",
       "\n",
       "    .dataframe thead th {\n",
       "        text-align: right;\n",
       "    }\n",
       "</style>\n",
       "<table border=\"1\" class=\"dataframe\">\n",
       "  <thead>\n",
       "    <tr style=\"text-align: right;\">\n",
       "      <th></th>\n",
       "      <th>name</th>\n",
       "      <th>mpg</th>\n",
       "      <th>cylinders</th>\n",
       "      <th>displacement</th>\n",
       "      <th>horsepower</th>\n",
       "      <th>weight</th>\n",
       "      <th>acceleration</th>\n",
       "      <th>model_year</th>\n",
       "      <th>origin</th>\n",
       "    </tr>\n",
       "  </thead>\n",
       "  <tbody>\n",
       "    <tr>\n",
       "      <th>0</th>\n",
       "      <td>chevrolet chevelle malibu</td>\n",
       "      <td>18.0</td>\n",
       "      <td>8</td>\n",
       "      <td>307.0</td>\n",
       "      <td>130.0</td>\n",
       "      <td>3504</td>\n",
       "      <td>12.0</td>\n",
       "      <td>70</td>\n",
       "      <td>usa</td>\n",
       "    </tr>\n",
       "    <tr>\n",
       "      <th>1</th>\n",
       "      <td>buick skylark 320</td>\n",
       "      <td>15.0</td>\n",
       "      <td>8</td>\n",
       "      <td>350.0</td>\n",
       "      <td>165.0</td>\n",
       "      <td>3693</td>\n",
       "      <td>11.5</td>\n",
       "      <td>70</td>\n",
       "      <td>usa</td>\n",
       "    </tr>\n",
       "    <tr>\n",
       "      <th>2</th>\n",
       "      <td>plymouth satellite</td>\n",
       "      <td>18.0</td>\n",
       "      <td>8</td>\n",
       "      <td>318.0</td>\n",
       "      <td>150.0</td>\n",
       "      <td>3436</td>\n",
       "      <td>11.0</td>\n",
       "      <td>70</td>\n",
       "      <td>usa</td>\n",
       "    </tr>\n",
       "    <tr>\n",
       "      <th>3</th>\n",
       "      <td>amc rebel sst</td>\n",
       "      <td>16.0</td>\n",
       "      <td>8</td>\n",
       "      <td>304.0</td>\n",
       "      <td>150.0</td>\n",
       "      <td>3433</td>\n",
       "      <td>12.0</td>\n",
       "      <td>70</td>\n",
       "      <td>usa</td>\n",
       "    </tr>\n",
       "    <tr>\n",
       "      <th>4</th>\n",
       "      <td>ford torino</td>\n",
       "      <td>17.0</td>\n",
       "      <td>8</td>\n",
       "      <td>302.0</td>\n",
       "      <td>140.0</td>\n",
       "      <td>3449</td>\n",
       "      <td>10.5</td>\n",
       "      <td>70</td>\n",
       "      <td>usa</td>\n",
       "    </tr>\n",
       "  </tbody>\n",
       "</table>\n",
       "</div>"
      ],
      "text/plain": [
       "                        name   mpg  cylinders  displacement  horsepower  \\\n",
       "0  chevrolet chevelle malibu  18.0          8         307.0       130.0   \n",
       "1          buick skylark 320  15.0          8         350.0       165.0   \n",
       "2         plymouth satellite  18.0          8         318.0       150.0   \n",
       "3              amc rebel sst  16.0          8         304.0       150.0   \n",
       "4                ford torino  17.0          8         302.0       140.0   \n",
       "\n",
       "   weight  acceleration  model_year origin  \n",
       "0    3504          12.0          70    usa  \n",
       "1    3693          11.5          70    usa  \n",
       "2    3436          11.0          70    usa  \n",
       "3    3433          12.0          70    usa  \n",
       "4    3449          10.5          70    usa  "
      ]
     },
     "execution_count": 14,
     "metadata": {},
     "output_type": "execute_result"
    }
   ],
   "source": [
    "#INSERT YOUR ANSWER HERE\n",
    "# !pip install pandas\n",
    "import pandas as pd\n",
    "\n",
    "# 1. read contents of the automobile.csv file\n",
    "df = pd.read_csv('Automobile.csv')\n",
    "df.head()"
   ]
  },
  {
   "cell_type": "code",
   "execution_count": 15,
   "metadata": {},
   "outputs": [
    {
     "name": "stdout",
     "output_type": "stream",
     "text": [
      "name 1\n",
      "mpg 2\n",
      "cylinders 3\n",
      "displacement 4\n",
      "horsepower 5\n",
      "weight 6\n",
      "acceleration 7\n",
      "model_year 8\n"
     ]
    }
   ],
   "source": [
    "# 2. Display the column names to the user along with their corresponding numbers (starting from 1).\n",
    "for col, i in zip(df.columns, range(1, len(df.columns))):\n",
    "    print(col, i)"
   ]
  },
  {
   "cell_type": "code",
   "execution_count": 17,
   "metadata": {},
   "outputs": [
    {
     "name": "stdin",
     "output_type": "stream",
     "text": [
      "Select column 3\n"
     ]
    },
    {
     "name": "stdout",
     "output_type": "stream",
     "text": [
      "0      8\n",
      "1      8\n",
      "2      8\n",
      "3      8\n",
      "4      8\n",
      "      ..\n",
      "393    4\n",
      "394    4\n",
      "395    4\n",
      "396    4\n",
      "397    4\n",
      "Name: cylinders, Length: 398, dtype: int64\n"
     ]
    }
   ],
   "source": [
    "# 3. Prompt the user to enter the number of the column they want to select.\n",
    "user_col = int(input(\"Select column\"))\n",
    "\n",
    "selected_col = df.iloc[:, user_col-1]\n",
    "print(selected_col)"
   ]
  },
  {
   "cell_type": "code",
   "execution_count": 18,
   "metadata": {},
   "outputs": [
    {
     "name": "stdout",
     "output_type": "stream",
     "text": [
      "5.454773869346734\n"
     ]
    }
   ],
   "source": [
    "# 4. Calculate the average of the values in the selected column.\n",
    "average = sum(selected_col)/len(selected_col)\n",
    "print(average)"
   ]
  },
  {
   "cell_type": "code",
   "execution_count": 19,
   "metadata": {},
   "outputs": [
    {
     "name": "stdout",
     "output_type": "stream",
     "text": [
      "5.454773869346734\n"
     ]
    }
   ],
   "source": [
    "# 5. Print the average value.\n",
    "print(average)"
   ]
  },
  {
   "cell_type": "markdown",
   "metadata": {
    "id": "YTfZ02bk8dtL"
   },
   "source": [
    "*****"
   ]
  },
  {
   "cell_type": "markdown",
   "metadata": {
    "id": "ovZoFqDk8f1U"
   },
   "source": [
    "### Question 3  **[40 pts]**:\n",
    "\n",
    "The following text is an example of a [fake payment receipt](https://it.umn.edu/scam-examples-security-advisories/example-248-fake-payment-receipts), scammers use to encourage recipients to engage.\n",
    "```\n",
    "From: robert lor <robert6388lor@gmail.com>\n",
    "Subject: PAYMENT DONE______________NYR7755269R\n",
    "Date: September 9, 2021 at 10:31:42 AM CDT\n",
    "To: consumer233@gmail.com\n",
    "\n",
    "___OUR valued consumer___\n",
    "\n",
    "thank you for your business through NORTON . this email that is to inform you your annual subscription with Norton is RENEWED .\n",
    "\n",
    "Here is an overview of your recent purchase :-\n",
    "\n",
    "PRODUCT INFO\n",
    "invoice no :- NYR7755269R\n",
    "ORDER date :- 09/09/2021\n",
    "PAYMENT method : - auto – debited\n",
    "\n",
    "VALUE :- $321.67\n",
    "\n",
    "to upgrade /cancel your subscription , PLEASE contact our customer service at\n",
    "+1 (810)-(515)-(7954)\n",
    "\n",
    "Thank you,\n",
    "Norton billing support\n",
    "```"
   ]
  },
  {
   "cell_type": "markdown",
   "metadata": {
    "id": "fn-Eedid9kXP"
   },
   "source": [
    "**a)**  **[10 pts]** Save the text to a file called `emailSpam.txt`, then compute and display the total number of lines: `23` and words: `91`."
   ]
  },
  {
   "cell_type": "code",
   "execution_count": 20,
   "metadata": {
    "id": "wbs7j8uT-IE6"
   },
   "outputs": [],
   "source": [
    "#INSERT YOUR ANSWER HERE\n",
    "\n",
    "with open(\"emailSpam.txt\", \"w\") as f:\n",
    "    f.write(\"\"\"From: robert lor <robert6388lor@gmail.com>\n",
    "Subject: PAYMENT DONE______________NYR7755269R\n",
    "Date: September 9, 2021 at 10:31:42 AM CDT\n",
    "To: consumer233@gmail.com\n",
    "\n",
    "___OUR valued consumer___\n",
    "\n",
    "thank you for your business through NORTON . this email that is to inform you your annual subscription with Norton is RENEWED .\n",
    "\n",
    "Here is an overview of your recent purchase :-\n",
    "\n",
    "PRODUCT INFO\n",
    "invoice no :- NYR7755269R\n",
    "ORDER date :- 09/09/2021\n",
    "PAYMENT method : - auto – debited\n",
    "\n",
    "VALUE :- $321.67\n",
    "\n",
    "to upgrade /cancel your subscription , PLEASE contact our customer service at\n",
    "+1 (810)-(515)-(7954)\n",
    "\n",
    "Thank you,\n",
    "Norton billing support\")\"\"\")"
   ]
  },
  {
   "cell_type": "code",
   "execution_count": 21,
   "metadata": {},
   "outputs": [
    {
     "name": "stdout",
     "output_type": "stream",
     "text": [
      "number of lines:  23\n"
     ]
    }
   ],
   "source": [
    "num_lines = 0\n",
    "for line in open(\"emailSpam.txt\", 'r'):\n",
    "    line = line.strip()\n",
    "    num_lines += 1\n",
    "print(\"number of lines: \", num_lines)"
   ]
  },
  {
   "cell_type": "code",
   "execution_count": 22,
   "metadata": {},
   "outputs": [
    {
     "name": "stdout",
     "output_type": "stream",
     "text": [
      "Number of words:  91\n"
     ]
    }
   ],
   "source": [
    "num_words = 0\n",
    "for line in open(\"emailSpam.txt\", 'r'):\n",
    "    wordlist = line.split()\n",
    "    for word in wordlist:\n",
    "        num_words += 1\n",
    "print(\"Number of words: \", num_words)"
   ]
  },
  {
   "cell_type": "markdown",
   "metadata": {
    "id": "Sc6SRAuU_vUn"
   },
   "source": [
    "**b) [10 pts]** Find and display the email subject and the number of the upper and lower cases in the subject text."
   ]
  },
  {
   "cell_type": "code",
   "execution_count": 23,
   "metadata": {
    "id": "53jWhgY7ATNC"
   },
   "outputs": [
    {
     "name": "stdout",
     "output_type": "stream",
     "text": [
      "PAYMENT DONE______________NYR7755269R\n",
      "\n"
     ]
    }
   ],
   "source": [
    "#INSERT YOUR ANSWER HERE\n",
    "# email subject\n",
    "for line in open(\"emailSpam.txt\", 'r'):\n",
    "    if line.startswith('Subject: '):\n",
    "        subject = line[len('Subject: '):]\n",
    "        \n",
    "print(subject)"
   ]
  },
  {
   "cell_type": "code",
   "execution_count": 8,
   "metadata": {},
   "outputs": [
    {
     "name": "stdout",
     "output_type": "stream",
     "text": [
      "2\n"
     ]
    }
   ],
   "source": [
    "# number of upper cases in subject text\n",
    "num_upper_words = 0\n",
    "for line in open(\"emailSpam.txt\", 'r'):\n",
    "    if line.startswith('Subject: '):\n",
    "        wordlist = line[len('Subject: '):].split()\n",
    "        for word in wordlist:\n",
    "            if word.isupper():\n",
    "                num_upper_words += 1\n",
    "\n",
    "print(num_upper_words)"
   ]
  },
  {
   "cell_type": "code",
   "execution_count": 7,
   "metadata": {},
   "outputs": [
    {
     "name": "stdout",
     "output_type": "stream",
     "text": [
      "0\n"
     ]
    }
   ],
   "source": [
    "# number of lower cases in subject text\n",
    "num_lower_words = 0\n",
    "for line in open(\"emailSpam.txt\", 'r'):\n",
    "    if line.startswith('Subject: '):\n",
    "        wordlist = line[len('Subject: '):].split()\n",
    "        for word in wordlist:\n",
    "            if word.islower():\n",
    "                num_lower_words += 1\n",
    "\n",
    "print(num_lower_words)"
   ]
  },
  {
   "cell_type": "markdown",
   "metadata": {
    "id": "8mjeEnRnGXl8"
   },
   "source": [
    "**c) [10 pts]** Assume that these 3 works are email spam trigger words: `renewed`, `purchase`, `subscription`. Check whether any of these words (either uppercase or lowercase) exist **in the body** of the email. If the email contains a spam word, print it; otherwise, return a message that the email does not include any predefined spam words."
   ]
  },
  {
   "cell_type": "code",
   "execution_count": 26,
   "metadata": {
    "id": "nY9UMXd_GpY5"
   },
   "outputs": [
    {
     "name": "stdout",
     "output_type": "stream",
     "text": [
      "['subscription', 'RENEWED', 'purchase', 'subscription']\n"
     ]
    }
   ],
   "source": [
    "#INSERT YOUR ANSWER HERE\n",
    "spam_words = ['renewed', 'purchase', 'subscription']\n",
    "\n",
    "spam_words_found = []\n",
    "\n",
    "for line in open(\"emailSpam.txt\", 'r').readlines()[4:]:\n",
    "    wordlist = line.split()\n",
    "    for word in wordlist:\n",
    "        if word.lower() in spam_words:\n",
    "            # append to list\n",
    "            spam_words_found.append(word)\n",
    "       \n",
    "    \n",
    "if spam_words_found:\n",
    "    print([word for word in spam_words_found])\n",
    "else:\n",
    "    print(\"The email does not include any predefined spam words.\")"
   ]
  },
  {
   "cell_type": "markdown",
   "metadata": {
    "id": "ns3ys_JXWA5U"
   },
   "source": [
    "**d) [10 pts]** Find and display the percentage of spam words found in the body of the email using the list of spam trigger words from part c."
   ]
  },
  {
   "cell_type": "code",
   "execution_count": 27,
   "metadata": {
    "id": "1T66UD5SWVk-"
   },
   "outputs": [
    {
     "name": "stdout",
     "output_type": "stream",
     "text": [
      "5.405405405405405\n"
     ]
    }
   ],
   "source": [
    "#INSERT YOUR ANSWER HERE\n",
    "\n",
    "num_words_body = 0\n",
    "\n",
    "for line in open(\"emailSpam.txt\", 'r').readlines()[4:]:\n",
    "    wordlist = line.split()\n",
    "    for word in wordlist:\n",
    "        num_words_body += 1\n",
    "\n",
    "percentage_spam_words = (len(spam_words_found) / num_words_body) * 100\n",
    "print(percentage_spam_words)"
   ]
  },
  {
   "cell_type": "markdown",
   "metadata": {
    "id": "MS4zegKigy6u"
   },
   "source": [
    "#### This is the end of assignment 1"
   ]
  }
 ],
 "metadata": {
  "colab": {
   "provenance": [
    {
     "file_id": "1PLQ9We2XMAvWsl3RhiWRiclkHnUt50Ox",
     "timestamp": 1682888077796
    }
   ]
  },
  "kernelspec": {
   "display_name": "Python 3 (ipykernel)",
   "language": "python",
   "name": "python3"
  },
  "language_info": {
   "codemirror_mode": {
    "name": "ipython",
    "version": 3
   },
   "file_extension": ".py",
   "mimetype": "text/x-python",
   "name": "python",
   "nbconvert_exporter": "python",
   "pygments_lexer": "ipython3",
   "version": "3.9.7"
  },
  "nteract": {
   "version": "0.28.0"
  },
  "varInspector": {
   "cols": {
    "lenName": 16,
    "lenType": 16,
    "lenVar": 40
   },
   "kernels_config": {
    "python": {
     "delete_cmd_postfix": "",
     "delete_cmd_prefix": "del ",
     "library": "var_list.py",
     "varRefreshCmd": "print(var_dic_list())"
    },
    "r": {
     "delete_cmd_postfix": ") ",
     "delete_cmd_prefix": "rm(",
     "library": "var_list.r",
     "varRefreshCmd": "cat(var_dic_list()) "
    }
   },
   "types_to_exclude": [
    "module",
    "function",
    "builtin_function_or_method",
    "instance",
    "_Feature"
   ],
   "window_display": false
  }
 },
 "nbformat": 4,
 "nbformat_minor": 4
}
