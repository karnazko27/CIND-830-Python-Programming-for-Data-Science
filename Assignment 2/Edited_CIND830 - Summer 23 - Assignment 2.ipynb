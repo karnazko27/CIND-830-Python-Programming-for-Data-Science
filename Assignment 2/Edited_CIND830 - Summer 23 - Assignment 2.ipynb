{
 "cells": [
  {
   "cell_type": "markdown",
   "metadata": {
    "id": "kJ6ssXaGJfGN"
   },
   "source": [
    "## CIND830 - Python Programming for Data Science  \n",
    "### Assignment 2 (15% of the final grade)\n",
    "### Due on Aug 9th, 2023 11:59 PM"
   ]
  },
  {
   "cell_type": "markdown",
   "metadata": {
    "id": "UWjXw7DsJfGP"
   },
   "source": [
    "*****\n",
    "This is a Jupyter Notebook document that extends a simple formatting syntax for authoring HTML and PDF. Review [this](https://jupyter-notebook.readthedocs.io/en/stable/notebook.html) website for more details on using Jupyter Notebooks.\n",
    "\n",
    "Consider using a Jupyter Notebook or Google Colab platform to complete this assignment. Ensure using **Python 3.7 release or higher** then complete the assignment by inserting your Python code wherever seeing the string `#INSERT YOUR ANSWER HERE.`\n",
    "\n",
    "You are expected to submit the notebook file (in IPYNB format) and the exported version (either in PDF or HTML) in the same Assignment link in D2L. Use [these](https://www.torontomu.ca/courses/students/tutorials/assignments/) guidelines to submit **both** the IPYNB and the exported file (HTML or PDF). Failing to submit both files will be subject to mark deduction.\n",
    "\n",
    "Please be advised that you cannot get more than 100% in this assignment, and the **BONUS** question (if there is any) will only be graded if all other questions have been submitted."
   ]
  },
  {
   "cell_type": "markdown",
   "metadata": {
    "id": "EAq5nq7shwbI"
   },
   "source": [
    "*****\n",
    "Coverage:\n",
    "1. Lists, Tuples and Dictionaries\n",
    "2. Functions and Classes\n",
    "3. Searching and Sorting\n",
    "4. Arrays and Grids\n",
    "5. Stacks, Queues, and Lists\n",
    "*****"
   ]
  },
  {
   "cell_type": "markdown",
   "metadata": {
    "id": "5MUOVmchP8WV"
   },
   "source": [
    "### Question 1 **[30 pts]**:"
   ]
  },
  {
   "cell_type": "markdown",
   "metadata": {
    "id": "sUzE8TAvRCRm"
   },
   "source": [
    "[Pascal's triangle](https://en.wikipedia.org/wiki/Pascal%27s_triangle) is a triangular array that can be used to find combinations. Each number in the triangle is the sum of the two numbers above it. For example, the value 4 in row 4 is the sum of 1 and 3 in the row above. The first and last number in any row will always be 1."
   ]
  },
  {
   "cell_type": "markdown",
   "metadata": {
    "id": "17f1tuGrAA34"
   },
   "source": [
    "![pascals triangle_small.png](data:image/png;base64,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)"
   ]
  },
  {
   "cell_type": "markdown",
   "metadata": {
    "id": "EydpyapzA0aT"
   },
   "source": [
    "The value of a row and column in Pascal's Triangle can be calculated using the following formula:\n",
    "$$C(n, r) = \\frac{n!}{r! (n-r)!}$$\n",
    "where $n$ and $r$, are the row and column indices.\n",
    "\n",
    "For example, $C(4,2) = 6$ corresponds to row index 4 and column index 2."
   ]
  },
  {
   "cell_type": "markdown",
   "metadata": {
    "id": "_OVpXxAnDklK"
   },
   "source": [
    "**Question 1.a [10 pts]**: Design a function that takes the row id and column id as arguments and returns the corresponding value from Pascal's triangle.\n",
    "Hint: You can use the [math.factorial()](https://docs.python.org/3/library/math.html#math.factorial) function or design one to compute the factorials.  \n",
    "  \n",
    "Make sure you name your function correctly so that the test code in the section below your answer can run.  \n"
   ]
  },
  {
   "cell_type": "code",
   "execution_count": 3,
   "metadata": {
    "id": "CBrGPu54P_lw"
   },
   "outputs": [],
   "source": [
    "### ANSWER HERE\n",
    "import math\n",
    "\n",
    "def find_c(row, column):\n",
    "    if row < 0 or column < 0 or column > row:\n",
    "        return None\n",
    "\n",
    "    com = math.factorial(row) // (math.factorial(column) * math.factorial(row - column))\n",
    "    return com"
   ]
  },
  {
   "cell_type": "code",
   "execution_count": 4,
   "metadata": {
    "id": "jfne3KH0E8ee"
   },
   "outputs": [
    {
     "name": "stdout",
     "output_type": "stream",
     "text": [
      "6\n",
      "10\n",
      "1\n"
     ]
    }
   ],
   "source": [
    "# DO NOT MODIFY THE FOLLOWING PART\n",
    "# When the following code is executed it needs to produce the correct output\n",
    "print(find_c(4,2))\n",
    "print(find_c(5,3))\n",
    "print(find_c(10,0))"
   ]
  },
  {
   "cell_type": "markdown",
   "metadata": {
    "id": "8Cod3dqJEVAJ"
   },
   "source": [
    "**Question 1.b [10 pts]**: Design a function that takes an integer $n$ as input and creates a two dimensional list with the first $n$ rows of Pascal's triangle.  For example, if the user calls the function with 6 as an argument, the following output should be displayed.\n",
    "```\n",
    "[[1], [1, 1], [1, 2, 1], [1, 3, 3, 1], [1, 4, 6, 4, 1], [1, 5, 10, 10, 5, 1], [1, 6, 15, 20, 15, 6, 1]]\n",
    "```\n",
    "Make sure you name your function correctly so that the test code in the section below your answer can run.  \n",
    "  \n",
    "Remember, the n rows of a Pascal triangle would look like the below if you draw it as a triangle. But the question asks to produce the above list.\n",
    "```\n",
    "        1\n",
    "       1 1\n",
    "      1 2 1\n",
    "     1 3 3 1\n",
    "    1 4 6 4 1\n",
    "   1 5 10 10 5 1\n",
    "  1 6 15 20 15 6 1\n",
    "\n",
    "```\n",
    "\n",
    "\n",
    "**Hint**:  You can use the function you designed in part a to compute the triangle values."
   ]
  },
  {
   "cell_type": "code",
   "execution_count": 5,
   "metadata": {
    "id": "wQ-zkOVIEsIo"
   },
   "outputs": [],
   "source": [
    "### ANSWER HERE\n",
    "def create_pascal_triangle(n):\n",
    "    triangle = []\n",
    "    for row in range(n):\n",
    "        current_row = [find_c(row, column) for column in range(row + 1)]\n",
    "        triangle.append(current_row)\n",
    "    return triangle"
   ]
  },
  {
   "cell_type": "code",
   "execution_count": 6,
   "metadata": {
    "id": "hSeGrQAqE7qo"
   },
   "outputs": [
    {
     "name": "stdout",
     "output_type": "stream",
     "text": [
      "[[1], [1, 1], [1, 2, 1], [1, 3, 3, 1], [1, 4, 6, 4, 1], [1, 5, 10, 10, 5, 1], [1, 6, 15, 20, 15, 6, 1]]\n"
     ]
    }
   ],
   "source": [
    "# DO NOT MODIFY THE FOLLOWING PART\n",
    "# When the following code is executed it needs to produce the correct output\n",
    "print(create_pascal_triangle(7))"
   ]
  },
  {
   "cell_type": "markdown",
   "metadata": {
    "id": "lcZrEegvlwGk"
   },
   "source": [
    "**Question 1.c [10 pts]**: Design a function that flips the Pascal triangle. For example, if the user calls the function with 6 as an argument, the output would be as follows.\n",
    "```\n",
    "1 5 10 10 5 1\n",
    "  1 4 6 4 1\n",
    "   1 3 3 1\n",
    "    1 2 1\n",
    "     1 1\n",
    "      1\n",
    "```  \n",
    "Make sure you name your function correctly so that the test code in the section below your answer can run.  \n",
    "  \n",
    "\n",
    "**Hint**:  You can use the function you designed in part a to compute the triangle values."
   ]
  },
  {
   "cell_type": "code",
   "execution_count": 9,
   "metadata": {
    "id": "dM6fu-JwPCWn"
   },
   "outputs": [],
   "source": [
    "### ANSWER HERE\n",
    "def print_flipped_pascal_triangle(n):\n",
    "    for row in range(n):\n",
    "        print(\" \" * row, end=\"\")\n",
    "        for column in range(n - row):\n",
    "            value = find_c(n - 1 - row, column)\n",
    "            print(value, end=\" \")\n",
    "        print()"
   ]
  },
  {
   "cell_type": "code",
   "execution_count": 10,
   "metadata": {
    "id": "MiHZQnWZPLTA"
   },
   "outputs": [
    {
     "name": "stdout",
     "output_type": "stream",
     "text": [
      "1 5 10 10 5 1 \n",
      " 1 4 6 4 1 \n",
      "  1 3 3 1 \n",
      "   1 2 1 \n",
      "    1 1 \n",
      "     1 \n"
     ]
    }
   ],
   "source": [
    "# DO NOT MODIFY THE FOLLOWING PART\n",
    "# When the following code is executed it needs to produce the correct output\n",
    "print_flipped_pascal_triangle(6)"
   ]
  },
  {
   "cell_type": "markdown",
   "metadata": {
    "id": "jPrZqSxgSWNr"
   },
   "source": [
    "*****\n"
   ]
  },
  {
   "cell_type": "markdown",
   "metadata": {
    "id": "ET_xPWH06XFD"
   },
   "source": [
    "### Question 2 **[30 pts]**:\n",
    "\n",
    "**E-commerce Store**\n",
    "\n",
    "Suppose you are building a simplified backend system for an e-commerce store.\n",
    "\n",
    "You are expected to define a number of classes and objects, then create the relevant test case functions to check your results.\n",
    "\n",
    "A sample test case function is given in ***Question 2.a***"
   ]
  },
  {
   "cell_type": "markdown",
   "metadata": {
    "id": "Ec10Lfo38NKM"
   },
   "source": [
    "**Question 2.a [10 pts]**:\n",
    "\n",
    "Define a class `Product` with attributes `name` and `price`.\n",
    "\n",
    "The class should also have a method `update_price` that allows the price to be updated  \n",
    "\n",
    "You should add a test case to check your results.\n",
    "\n",
    "A sample test case function for this question should look like;\n",
    "\n",
    "```\n",
    "# Test Case for Question 1a\n",
    "def test_product():\n",
    "    p1 = Product(\"Apple\", 100)\n",
    "    assert p1.name == \"Apple\"\n",
    "    assert p1.price == 100\n",
    "    print(vars(p1))\n",
    "\n",
    "    # Update price\n",
    "    p1.update_price(110)\n",
    "    assert p1.price == 110\n",
    "    print(vars(p1))\n",
    "    \n",
    "    print(\"All Product tests passed\")\n",
    "\n",
    "test_product()\n",
    "\n",
    "```  \n",
    "Make sure you name your function correctly so that the test code in the section below your answer can run.  \n",
    "  "
   ]
  },
  {
   "cell_type": "code",
   "execution_count": 11,
   "metadata": {
    "id": "D0xcUhpt9uv6"
   },
   "outputs": [],
   "source": [
    "## ANSWER HERE\n",
    "class Product:\n",
    "    def __init__(self, name, price):\n",
    "        self.name = name\n",
    "        self.price = price\n",
    "\n",
    "    def update_price(self, new_price):\n",
    "        self.price = new_price"
   ]
  },
  {
   "cell_type": "code",
   "execution_count": 12,
   "metadata": {
    "id": "VLE1rD9OM2-X"
   },
   "outputs": [
    {
     "name": "stdout",
     "output_type": "stream",
     "text": [
      "{'name': 'Apple', 'price': 100}\n",
      "{'name': 'Apple', 'price': 110}\n",
      "All Product tests passed\n"
     ]
    }
   ],
   "source": [
    "# DO NOT MODIFY THE FOLLOWING PART\n",
    "# When the following code is executed it needs to produce the correct output\n",
    "\n",
    "# Test Case for Question 1a\n",
    "def test_product():\n",
    "    p1 = Product(\"Apple\", 100)\n",
    "    assert p1.name == \"Apple\"\n",
    "    assert p1.price == 100\n",
    "    print(vars(p1))\n",
    "\n",
    "    # Update price\n",
    "    p1.update_price(110)\n",
    "    assert p1.price == 110\n",
    "    print(vars(p1))\n",
    "\n",
    "    print(\"All Product tests passed\")\n",
    "\n",
    "test_product()"
   ]
  },
  {
   "cell_type": "markdown",
   "metadata": {
    "id": "orFdARR6gPKd"
   },
   "source": [
    "**Question 2.b [10 pts]**:\n",
    "\n",
    "Create a class `Customer` with attributes `name` and `cart`.\n",
    "\n",
    "`cart` should be a dictionary with `Product` instances as keys and quantities as values.\n",
    "\n",
    "This class should have the following methods:\n",
    "- `add_to_cart(Product, quantity)`: this should add the product to the customer's cart, updating the quantity in the cart.\n",
    "- `remove_from_cart(Product, quantity)`: this should remove the product from the customer's cart, updating the quantity in the cart.\n",
    "- `checkout()`: this should calculate and return the total cost of all products in the cart.\n",
    "- `empty_cart()`: this empties all products from the customer's cart\n",
    "\n",
    "Business Rules:\n",
    "* If the quantity of the cart item is 0, then the entry of the cart should be removed.\n",
    "* You cannot remove a quantity that doesn't exist in the cart\n",
    "* You cannot remove a product that is not in the cart\n",
    "* For the current question we can assume that there is unlimited number of products in the store  \n",
    "  \n",
    "Make sure you name your function correctly so that the test code in the section below your answer can run.  "
   ]
  },
  {
   "cell_type": "code",
   "execution_count": 13,
   "metadata": {
    "id": "ImQYJFE4grlO"
   },
   "outputs": [],
   "source": [
    "## ANSWER HERE\n",
    "class Customer:\n",
    "    def __init__(self, name):\n",
    "        self.name = name\n",
    "        self.cart = {}\n",
    "\n",
    "    def add_to_cart(self, product, quantity):\n",
    "        if quantity > 0:\n",
    "            if product in self.cart:\n",
    "                self.cart[product] += quantity\n",
    "            else:\n",
    "                self.cart[product] = quantity\n",
    "\n",
    "    def remove_from_cart(self, product, quantity):\n",
    "        if product in self.cart and self.cart[product] >= quantity:\n",
    "            self.cart[product] -= quantity\n",
    "            if self.cart[product] == 0:\n",
    "                del self.cart[product]\n",
    "\n",
    "    def checkout(self):\n",
    "        total_cost = sum(product.price * quantity for product, quantity in self.cart.items())\n",
    "        return total_cost\n",
    "\n",
    "    def empty_cart(self):\n",
    "        self.cart = {}\n",
    "\n"
   ]
  },
  {
   "cell_type": "code",
   "execution_count": 14,
   "metadata": {
    "id": "SJFcEn9tNIcO"
   },
   "outputs": [
    {
     "name": "stdout",
     "output_type": "stream",
     "text": [
      "{'name': 'Apple', 'price': 3}\n",
      "{'name': 'Banana', 'price': 1}\n",
      "{'name': 'John Doe', 'cart': {}}\n",
      "{'name': 'John Doe', 'cart': {<__main__.Product object at 0x7fe00154b4f0>: 10}}\n",
      "{'name': 'John Doe', 'cart': {<__main__.Product object at 0x7fe00154b4f0>: 10, <__main__.Product object at 0x7fe00154b970>: 20}}\n",
      "{'name': 'John Doe', 'cart': {<__main__.Product object at 0x7fe00154b4f0>: 5, <__main__.Product object at 0x7fe00154b970>: 20}}\n",
      "{'name': 'John Doe', 'cart': {<__main__.Product object at 0x7fe00154b4f0>: 5, <__main__.Product object at 0x7fe00154b970>: 10}}\n",
      "{'name': 'John Doe', 'cart': {<__main__.Product object at 0x7fe00154b4f0>: 5, <__main__.Product object at 0x7fe00154b970>: 10}}\n",
      "{'name': 'John Doe', 'cart': {}}\n",
      "All test cases pass for Customer\n"
     ]
    }
   ],
   "source": [
    "# DO NOT MODIFY THE FOLLOWING PART\n",
    "# When the following code is executed it needs to produce the correct output\n",
    "\n",
    "# Test Case for Question 1b\n",
    "def test_customer():\n",
    "    p1 = Product(\"Apple\", 3)\n",
    "    p2 = Product(\"Banana\", 1)\n",
    "    customer = Customer(\"John Doe\")\n",
    "\n",
    "    print(vars(p1))\n",
    "    print(vars(p2))\n",
    "    print(vars(customer))\n",
    "\n",
    "    # Test add_to_cart\n",
    "    customer.add_to_cart(p1, 10)\n",
    "    assert customer.cart[p1] == 10\n",
    "    print(vars(customer))\n",
    "\n",
    "    customer.add_to_cart(p2, 20)\n",
    "    assert customer.cart[p2] == 20\n",
    "    print(vars(customer))\n",
    "\n",
    "    # Test remove_from_cart\n",
    "    customer.remove_from_cart(p1, 5)\n",
    "    assert customer.cart[p1] == 5\n",
    "    print(vars(customer))\n",
    "\n",
    "    customer.remove_from_cart(p2, 10)\n",
    "    assert customer.cart[p2] == 10\n",
    "    print(vars(customer))\n",
    "\n",
    "    # Test checkout\n",
    "    total = customer.checkout()\n",
    "    assert total == 5 * p1.price + 10 * p2.price\n",
    "    print(vars(customer))\n",
    "\n",
    "    # Test empty_cart\n",
    "    customer.empty_cart()\n",
    "    assert not bool(customer.cart)\n",
    "    print(vars(customer))\n",
    "\n",
    "    print(\"All test cases pass for Customer\")\n",
    "\n",
    "\n",
    "test_customer()"
   ]
  },
  {
   "cell_type": "markdown",
   "metadata": {
    "id": "5eg1fRaogr-c"
   },
   "source": [
    "**Question 2.c [10 pts]**:\n",
    "\n",
    "Create a class `Store` with attribute `inventory` (a dictionary of `Product` instances as keys, and with the stock quantities as values).\n",
    "\n",
    "This class should have the following methods:\n",
    "- `add_product(Product, stock_quantity)`: this should add the product to the store's inventory with the specified stock quantity. If the product already exists, then it needs to increase the stock quantity only.\n",
    "- `remove_product(Product, stock_quantity)`: this should remove the product from the store's inventory with the specified stock quantity. It should not remove a stock quantity that doesn't exist in the stock, nor the product if it is not in the inventory  \n",
    "  \n",
    "Make sure you name your function correctly so that the test code in the section below your answer can run.  \n"
   ]
  },
  {
   "cell_type": "code",
   "execution_count": 15,
   "metadata": {
    "id": "AL80TtD1gscO"
   },
   "outputs": [],
   "source": [
    "## ANSWER HERE\n",
    "class Store:\n",
    "    def __init__(self):\n",
    "        self.inventory = {}\n",
    "\n",
    "    def add_product(self, product, stock_quantity):\n",
    "        if stock_quantity > 0:\n",
    "            if product in self.inventory:\n",
    "                self.inventory[product] += stock_quantity\n",
    "            else:\n",
    "                self.inventory[product] = stock_quantity\n",
    "\n",
    "    def remove_product(self, product, stock_quantity):\n",
    "        if product in self.inventory and self.inventory[product] >= stock_quantity:\n",
    "            self.inventory[product] -= stock_quantity\n",
    "            if self.inventory[product] == 0:\n",
    "                del self.inventory[product]"
   ]
  },
  {
   "cell_type": "code",
   "execution_count": 16,
   "metadata": {
    "id": "_OH38Cn6NXrn"
   },
   "outputs": [
    {
     "name": "stdout",
     "output_type": "stream",
     "text": [
      "{'name': 'Apple', 'price': 3}\n",
      "{'name': 'Banana', 'price': 1}\n",
      "{'name': 'Cherry', 'price': 5}\n",
      "{'inventory': {}}\n",
      "{'inventory': {<__main__.Product object at 0x7fe00154b490>: 100}}\n",
      "{'inventory': {<__main__.Product object at 0x7fe00154b490>: 100, <__main__.Product object at 0x7fe00154bd60>: 200}}\n",
      "{'inventory': {<__main__.Product object at 0x7fe00154b490>: 100, <__main__.Product object at 0x7fe00154bd60>: 200, <__main__.Product object at 0x7fe00154ba90>: 300}}\n",
      "{'inventory': {<__main__.Product object at 0x7fe00154bd60>: 200, <__main__.Product object at 0x7fe00154ba90>: 300}}\n",
      "{'inventory': {<__main__.Product object at 0x7fe00154bd60>: 200, <__main__.Product object at 0x7fe00154ba90>: 400}}\n",
      "All test cases pass for Store\n"
     ]
    }
   ],
   "source": [
    "# DO NOT MODIFY THE FOLLOWING PART\n",
    "# When the following code is executed it needs to produce the correct output\n",
    "\n",
    "# Test Case for Question 1c\n",
    "def test_store():\n",
    "    p1 = Product(\"Apple\", 3)\n",
    "    p2 = Product(\"Banana\", 1)\n",
    "    p3 = Product(\"Cherry\", 5)\n",
    "    store = Store()\n",
    "\n",
    "    print(vars(p1))\n",
    "    print(vars(p2))\n",
    "    print(vars(p3))\n",
    "    print(vars(store))\n",
    "\n",
    "    # Test add_product\n",
    "    store.add_product(p1, 100)\n",
    "    assert p1 in store.inventory\n",
    "    assert store.inventory[p1] == 100\n",
    "    print(vars(store))\n",
    "\n",
    "    store.add_product(p2, 200)\n",
    "    assert p2 in store.inventory\n",
    "    assert store.inventory[p2] == 200\n",
    "    print(vars(store))\n",
    "\n",
    "    store.add_product(p3, 300)\n",
    "    assert p3 in store.inventory\n",
    "    assert store.inventory[p3] == 300\n",
    "    print(vars(store))\n",
    "\n",
    "    # Test remove_product\n",
    "    store.remove_product(p1, 100)\n",
    "    assert p1 not in store.inventory\n",
    "    print(vars(store))\n",
    "\n",
    "    store.add_product(p3, 100)\n",
    "    assert p3 in store.inventory\n",
    "    assert store.inventory[p3] == 400\n",
    "    print(vars(store))\n",
    "\n",
    "    print(\"All test cases pass for Store\")\n",
    "\n",
    "test_store()"
   ]
  },
  {
   "cell_type": "markdown",
   "metadata": {
    "id": "n1d3CPcY9qHB"
   },
   "source": [
    "*****"
   ]
  },
  {
   "cell_type": "markdown",
   "metadata": {
    "id": "ZCRaYgVl0hCA"
   },
   "source": [
    "### **Question 3  [40 pts]**:\n",
    "\n",
    "Assume the following class implements the STACK abstract data type (ADT) using the iArray ADT.\n",
    "\n",
    "```\n",
    "class aStack(iArray):\n",
    "    def __init__(self, capacity = 5):\n",
    "        self._items = iArray(capacity)\n",
    "        self._top = -1\n",
    "        self._size = 0\n",
    "    def push(self, newItem):\n",
    "        self._top += 1\n",
    "        self._size += 1\n",
    "        self._items[self._top] = newItem\n",
    "    def pop(self):\n",
    "        oldItem = self._items[self._top]\n",
    "        self._items[self._top] = None\n",
    "        self._top -= 1\n",
    "        self._size -= 1\n",
    "        return oldItem\n",
    "    def peek(self):\n",
    "        return self._items[self._top]\n",
    "    def __len__(self):\n",
    "        return self._size\n",
    "    def __str__(self):\n",
    "        result = ' '\n",
    "        for i in range(len(self)):\n",
    "            result += str(self._items[i]) + ' '\n",
    "        return result\n",
    "```\n",
    "\n",
    "And the following class implements the QUEUE ADT using the iArray ADT  \n",
    "\n",
    "```\n",
    "class aQueue(iArray):\n",
    "    def __init__(self, capacity = 5):\n",
    "        self._items = iArray(capacity)\n",
    "        self._rear = -1\n",
    "        self._size = 0\n",
    "    def enqueue(self, newItem):\n",
    "        self._rear += 1\n",
    "        self._size += 1\n",
    "        self._items[self._rear] = newItem\n",
    "    def dequeue(self):\n",
    "        oldItem = self._items[0]\n",
    "        for i in range(len(self) - 1):\n",
    "            self._items[i] = self._items[i + 1]\n",
    "            self._items[i + 1] = None\n",
    "        self._rear -= 1\n",
    "        self._size -= 1\n",
    "        return oldItem\n",
    "    def peek(self):\n",
    "        return self._items[0]\n",
    "    def __len__(self):\n",
    "        return self._size\n",
    "    def __str__(self):\n",
    "        result = ' '\n",
    "        for i in range(len(self)):\n",
    "            result += str(self._items[i]) + ' '\n",
    "        return result\n",
    "```\n"
   ]
  },
  {
   "cell_type": "markdown",
   "metadata": {
    "id": "cBk6q7bE1Hnj"
   },
   "source": [
    "**Question 3.a [10 pts]**: Rewrite the `Stack` class using the Python list data structure rather than the Array ADT, then list the pros and cons of this approach.\n",
    "\n"
   ]
  },
  {
   "cell_type": "code",
   "execution_count": 18,
   "metadata": {
    "id": "EgWFuENl1jt6"
   },
   "outputs": [],
   "source": [
    "## ANSWER HERE\n",
    "# Class Stack\n",
    "class Stack:\n",
    "    def __init__(self, capacity=5):\n",
    "        self._items = []\n",
    "        self._top = -1\n",
    "        self._size = 0\n",
    "        self._capacity = capacity\n",
    "\n",
    "    def push(self, newItem):\n",
    "        if len(self._items) >= self._capacity:\n",
    "            raise IndexError(\"Stack is full\")\n",
    "        self._items.append(newItem)\n",
    "        self._top += 1\n",
    "        self._size += 1\n",
    "\n",
    "    def pop(self):\n",
    "        if self.is_empty():\n",
    "            raise IndexError(\"Stack is empty\")\n",
    "        oldItem = self._items.pop()\n",
    "        self._top -= 1\n",
    "        self._size -= 1\n",
    "        return oldItem\n",
    "\n",
    "    def peek(self):\n",
    "        if self.is_empty():\n",
    "            raise IndexError(\"Stack is empty\")\n",
    "        return self._items[-1]\n",
    "\n",
    "    def is_empty(self):\n",
    "        return self._size == 0\n",
    "\n",
    "    def __len__(self):\n",
    "        return self._size\n",
    "\n",
    "    def __str__(self):\n",
    "        result = ' '\n",
    "        for i in range(len(self)):\n",
    "            result += str(self._items[i]) + ' '\n",
    "        return result\n",
    "\n",
    "\n",
    "# Write the pros-cons of these classes compared with the original ones implemented with iArray\n",
    "#\n",
    "#"
   ]
  },
  {
   "cell_type": "markdown",
   "metadata": {
    "tags": []
   },
   "source": [
    "### Write the pros-cons of these classes compared with the original ones implemented with iArray\n",
    "\n",
    "Pros and Cons of 'Stack' class implemented with Python list:\n",
    "\n",
    "Pros:\n",
    "- Simple: This class is simple and easy to understand since it is built upon the list data structure.\n",
    "- Efficient: It has the efficiency of Python lists and therefore other methods can be built on it.\n",
    "\n",
    "Cons:\n",
    "- Memory: It takes more memory than the original class. The 'Stack' class has a fixed capacity.\n",
    "\n",
    "Pros and Cons of 'aStack' class implemented with iArray:\n",
    "\n",
    "Pros:\n",
    "- More Control: When using the custom iArray, you have greater control over how the elements are stored and managed. \n",
    "- Possible Improvements: Depending on how the iArray works inside, certain actions like removing elements (like 'pop' for stacks) might become faster and more efficient if the iArray is designed well.\n",
    "- Separation: By using this custom solution, you keep the actual stack behavior separate from how it's stored. This means you can change how things are stored without affecting how people interact with the stack.\n",
    "\n",
    "Cons:\n",
    "- More Complex: The aStack class becomes harder to understand because it's built on top of the custom iArray class.\n",
    "- Possible Mistakes: The way the aStack class removes items manually might lead to errors.\n",
    "- Repeating Work: The methods for showing the length and printing the contents in the aStack class could be seen as repetitive since they are already present in the standard list structure.\n",
    "\n",
    "In conclusion, the basic Stack class using a Python list is simple and works well for common operations. It's easy to understand and efficient.\n",
    "\n",
    "On the flip side, the aStack class using iArray offers the chance to make things even better and faster, but it's harder to understand. There's a risk of mistakes when dealing with memory, which could lead to problems."
   ]
  },
  {
   "cell_type": "markdown",
   "metadata": {
    "id": "YAu1kUj-_BBE"
   },
   "source": [
    "**Question 3.b [10 pts]**: Rewrite the `Queue` classes using the Python list data structure rather than the Array ADT, then list the pros and cons of this approach."
   ]
  },
  {
   "cell_type": "code",
   "execution_count": 19,
   "metadata": {
    "id": "zmGmFUzC_FwI"
   },
   "outputs": [],
   "source": [
    "## ANSWER HERE\n",
    "# Class Queue\n",
    "class Queue:\n",
    "    def __init__(self, capacity=5):\n",
    "        self._items = []\n",
    "        self._rear = -1\n",
    "        self._size = 0\n",
    "        self._capacity = capacity\n",
    "\n",
    "    def enqueue(self, newItem):\n",
    "        if len(self._items) >= self._capacity:\n",
    "            raise IndexError(\"Queue is full\")\n",
    "        self._items.append(newItem)\n",
    "        self._rear += 1\n",
    "        self._size += 1\n",
    "\n",
    "    def dequeue(self):\n",
    "        if self.is_empty():\n",
    "            raise IndexError(\"Queue is empty\")\n",
    "        oldItem = self._items.pop(0)\n",
    "        self._rear -= 1\n",
    "        self._size -= 1\n",
    "        return oldItem\n",
    "\n",
    "    def peek(self):\n",
    "        if self.is_empty():\n",
    "            raise IndexError(\"Queue is empty\")\n",
    "\n",
    "# Write the pros-cons of these classes compared with the original ones implemented with iArray\n",
    "#\n",
    "#"
   ]
  },
  {
   "cell_type": "markdown",
   "metadata": {},
   "source": [
    "### Write the pros-cons of these classes compared with the original ones implemented with iArray\n",
    "\n",
    "Pros and Cons of 'Queue' class implemented with Python list:\n",
    "\n",
    "Pros:\n",
    "- Simple: This class is relatively simple. It uses Python's built-in list functionalities.\n",
    "- Efficient: It has the efficiency of Python lists and therefore enqueue and dequeue operations can be built on top of it.\n",
    "\n",
    "Cons:\n",
    "- Memory: It takes more memory than arrays.\n",
    "- Complexity: It has O(n) complexity since it is built upon the list data structure.\n",
    "\n",
    "Pros and Cons of iArray aQueue:\n",
    "\n",
    "Pros: \n",
    "- Customized: This class is more customized and can be fit to user's needs.\n",
    "- Memory-efficient: This is more memory-efficient than list data structure based classes since arrays are more memory-efficient.\n",
    "\n",
    "Cons: \n",
    "- Hard to understand: This implementation is not as easy to understand as the other class.\n",
    "- Extra methods: The __str__ and __len__ methods needed to be added whereas lists come with these methods so the other class wouldn't need them\n",
    "\n",
    "Conclusion: \n",
    "\n",
    "It is hard to say which is better or worse since it depends on the user's needs. For simplicity and ease of access to list functionalities the 'Queue' class is better. For memory-efficiency the aQueue class is better."
   ]
  },
  {
   "cell_type": "markdown",
   "metadata": {
    "id": "9DH5FsJH2Ir8"
   },
   "source": [
    "**Question 3.c [20 pts]**: You will create a game of drawing numbers. Alice and Bob are the players. Alice and Bob they are both given the same list of numbers with the same order. Alice uses a stack to store them, and Bob uses a queue.  \n",
    "   \n",
    "Here is how the game is played:  \n",
    "1) The user is asked to enter a sequence of numbers separated with spaces.  \n",
    "2) Alice and Bob store these numbers to their data structures (stack/queue).  \n",
    "3) Alice and Bob they both read numbers from their lists as per their lists' behaviour (they don't remove them from their lists at this stage).  \n",
    "4) If Alice's number is greater than Bob's then for this round the game displays `1` and Bob removes his number from his list. If Bob's number is greater than Alice's, then for this round a `2` is displayed and this time Alice removes her number from the list. If the numbers are equal, then a `0` is displayed and they both remove their numbers from their lists.  \n",
    "5) The game ends when one of them (or both) runs out of numbers. The winner is the one that has still numbers in her/his list.  \n",
    "  \n",
    "Write the program to get the numbers from the user and then displays the game rounds with the above rules, then declares the winner. You must use the Stack and Queue classes you've created in the previous questions."
   ]
  },
  {
   "cell_type": "code",
   "execution_count": 21,
   "metadata": {
    "id": "QtnhRVe02P37"
   },
   "outputs": [
    {
     "name": "stdin",
     "output_type": "stream",
     "text": [
      "Enter a sequence of numbers separated by spaces:  1 3\n"
     ]
    },
    {
     "name": "stdout",
     "output_type": "stream",
     "text": [
      "Round 1: 1\n",
      "Round 2: 0\n",
      "Bob wins! Alice still has numbers in her list.\n"
     ]
    }
   ],
   "source": [
    "## ANSWER HERE\n",
    "class Stack:\n",
    "    def __init__(self):\n",
    "        self._items = []\n",
    "\n",
    "    def push(self, newItem):\n",
    "        self._items.append(newItem)\n",
    "\n",
    "    def pop(self):\n",
    "        if self.is_empty():\n",
    "            raise IndexError(\"Stack is empty\")\n",
    "        return self._items.pop()\n",
    "\n",
    "    def peek(self):\n",
    "        if self.is_empty():\n",
    "            raise IndexError(\"Stack is empty\")\n",
    "        return self._items[-1]\n",
    "\n",
    "    def is_empty(self):\n",
    "        return len(self._items) == 0\n",
    "\n",
    "    def __len__(self):\n",
    "        return len(self._items)\n",
    "\n",
    "\n",
    "class Queue:\n",
    "    def __init__(self):\n",
    "        self._items = []\n",
    "\n",
    "    def enqueue(self, newItem):\n",
    "        self._items.append(newItem)\n",
    "\n",
    "    def dequeue(self):\n",
    "        if self.is_empty():\n",
    "            raise IndexError(\"Queue is empty\")\n",
    "        return self._items.pop(0)\n",
    "\n",
    "    def peek(self):\n",
    "        if self.is_empty():\n",
    "            raise IndexError(\"Queue is empty\")\n",
    "        return self._items[0]\n",
    "\n",
    "    def is_empty(self):\n",
    "        return len(self._items) == 0\n",
    "\n",
    "    def __len__(self):\n",
    "        return len(self._items)\n",
    "\n",
    "\n",
    "def play_game():\n",
    "    numbers = input(\"Enter a sequence of numbers separated by spaces: \").split()\n",
    "    alice_stack = Stack()\n",
    "    bob_queue = Queue()\n",
    "\n",
    "    for num in numbers:\n",
    "        num = int(num)\n",
    "        alice_stack.push(num)\n",
    "        bob_queue.enqueue(num)\n",
    "\n",
    "    rounds = 0\n",
    "    while not alice_stack.is_empty() and not bob_queue.is_empty():\n",
    "        alice_num = alice_stack.peek()\n",
    "        bob_num = bob_queue.peek()\n",
    "\n",
    "        if alice_num > bob_num:\n",
    "            print(\"Round {}: 1\".format(rounds + 1))\n",
    "            bob_queue.dequeue()\n",
    "        elif alice_num < bob_num:\n",
    "            print(\"Round {}: 2\".format(rounds + 1))\n",
    "            alice_stack.pop()\n",
    "        else:\n",
    "            print(\"Round {}: 0\".format(rounds + 1))\n",
    "            alice_stack.pop()\n",
    "            bob_queue.dequeue()\n",
    "\n",
    "        rounds += 1\n",
    "\n",
    "    if alice_stack.is_empty() and bob_queue.is_empty():\n",
    "        print(\"It's a tie! Both Alice and Bob have run out of numbers.\")\n",
    "    elif alice_stack.is_empty():\n",
    "        print(\"Alice wins! Bob still has numbers in his list.\")\n",
    "    else:\n",
    "        print(\"Bob wins! Alice still has numbers in her list.\")\n",
    "\n",
    "\n",
    "play_game()"
   ]
  },
  {
   "cell_type": "markdown",
   "metadata": {
    "id": "lVMO52pJwk6W"
   },
   "source": [
    "#### This is the end of assignment 2"
   ]
  }
 ],
 "metadata": {
  "colab": {
   "provenance": []
  },
  "kernelspec": {
   "display_name": "Python 3 (ipykernel)",
   "language": "python",
   "name": "python3"
  },
  "language_info": {
   "codemirror_mode": {
    "name": "ipython",
    "version": 3
   },
   "file_extension": ".py",
   "mimetype": "text/x-python",
   "name": "python",
   "nbconvert_exporter": "python",
   "pygments_lexer": "ipython3",
   "version": "3.9.7"
  },
  "nteract": {
   "version": "0.28.0"
  },
  "varInspector": {
   "cols": {
    "lenName": 16,
    "lenType": 16,
    "lenVar": 40
   },
   "kernels_config": {
    "python": {
     "delete_cmd_postfix": "",
     "delete_cmd_prefix": "del ",
     "library": "var_list.py",
     "varRefreshCmd": "print(var_dic_list())"
    },
    "r": {
     "delete_cmd_postfix": ") ",
     "delete_cmd_prefix": "rm(",
     "library": "var_list.r",
     "varRefreshCmd": "cat(var_dic_list()) "
    }
   },
   "types_to_exclude": [
    "module",
    "function",
    "builtin_function_or_method",
    "instance",
    "_Feature"
   ],
   "window_display": false
  }
 },
 "nbformat": 4,
 "nbformat_minor": 4
}
